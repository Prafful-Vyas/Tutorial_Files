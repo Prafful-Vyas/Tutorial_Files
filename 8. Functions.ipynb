{
 "cells": [
  {
   "cell_type": "code",
   "execution_count": 1,
   "id": "d51032f9",
   "metadata": {},
   "outputs": [
    {
     "name": "stdout",
     "output_type": "stream",
     "text": [
      "<function hello_func at 0x00000160DCA76A60>\n",
      "None\n"
     ]
    }
   ],
   "source": [
    "def hello_func():\n",
    "    pass\n",
    "\n",
    "print(hello_func)\n",
    "print(hello_func())"
   ]
  },
  {
   "cell_type": "code",
   "execution_count": 4,
   "id": "b60421bb",
   "metadata": {},
   "outputs": [
    {
     "name": "stdout",
     "output_type": "stream",
     "text": [
      "Hello Function!\n"
     ]
    }
   ],
   "source": [
    "def hello_func():\n",
    "    print('Hello Function!')\n",
    "    \n",
    "hello_func()"
   ]
  },
  {
   "cell_type": "code",
   "execution_count": 5,
   "id": "1fdb72e0",
   "metadata": {},
   "outputs": [
    {
     "name": "stdout",
     "output_type": "stream",
     "text": [
      "Hello Function!\n",
      "Hello Function!\n",
      "Hello Function!\n",
      "Hello Function!\n"
     ]
    }
   ],
   "source": [
    "# helps to implement dry\n",
    "\n",
    "hello_func()\n",
    "hello_func()\n",
    "hello_func()\n",
    "hello_func()"
   ]
  },
  {
   "cell_type": "code",
   "execution_count": 8,
   "id": "2f75776f",
   "metadata": {},
   "outputs": [
    {
     "name": "stdout",
     "output_type": "stream",
     "text": [
      "Hello Function.\n",
      "HELLO FUNCTION.\n"
     ]
    }
   ],
   "source": [
    "# returns a string\n",
    "\n",
    "def hello_func():\n",
    "    return 'Hello Function.'\n",
    "\n",
    "print(hello_func())\n",
    "print(hello_func().upper())"
   ]
  },
  {
   "cell_type": "code",
   "execution_count": 9,
   "id": "b8acc8de",
   "metadata": {},
   "outputs": [
    {
     "name": "stdout",
     "output_type": "stream",
     "text": [
      "Hi Function.\n"
     ]
    }
   ],
   "source": [
    "# passing an argument\n",
    "\n",
    "def hello_func(greeting):\n",
    "    return '{} Function.'.format(greeting)\n",
    "\n",
    "print(hello_func('Hi'))"
   ]
  },
  {
   "cell_type": "code",
   "execution_count": 11,
   "id": "f0dbcb24",
   "metadata": {},
   "outputs": [
    {
     "name": "stdout",
     "output_type": "stream",
     "text": [
      "Hi, You.\n",
      "Hi, Corey.\n"
     ]
    }
   ],
   "source": [
    "# using default value for no argument\n",
    "\n",
    "def hello_func(greeting, name = 'You'):\n",
    "    return '{}, {}.'.format(greeting, name)\n",
    "\n",
    "# if name is not passed 'you' will be taken as default value\n",
    "\n",
    "print(hello_func('Hi'))\n",
    "print(hello_func('Hi', name = 'Corey'))"
   ]
  },
  {
   "cell_type": "code",
   "execution_count": 12,
   "id": "9adb8aa8",
   "metadata": {},
   "outputs": [
    {
     "name": "stdout",
     "output_type": "stream",
     "text": [
      "('Math', 'Art')\n",
      "{'name': 'John', 'age': 22}\n"
     ]
    }
   ],
   "source": [
    "# kwargs and args\n",
    "\n",
    "def student_info(*args, **kwargs):\n",
    "    print(args)\n",
    "    print(kwargs)\n",
    "    \n",
    "student_info('Math','Art', name = 'John', age = 22)"
   ]
  },
  {
   "cell_type": "code",
   "execution_count": 14,
   "id": "ab6cac64",
   "metadata": {},
   "outputs": [
    {
     "name": "stdout",
     "output_type": "stream",
     "text": [
      "(['Math', 'Art'], {'name': 'John', 'age': 22})\n",
      "{}\n",
      "('Math', 'Art')\n",
      "{'name': 'John', 'age': 22}\n"
     ]
    }
   ],
   "source": [
    "def student_info(*args, **kwargs):\n",
    "    print(args)\n",
    "    print(kwargs)\n",
    "    \n",
    "courses = ['Math','Art']\n",
    "info = {'name': 'John', 'age':22}\n",
    "\n",
    "student_info(courses,info)\n",
    "# passes both arguments in a tuple\n",
    "\n",
    "student_info(*courses,**info)\n",
    "# passes both arguments separately"
   ]
  },
  {
   "cell_type": "code",
   "execution_count": 17,
   "id": "e8858d03",
   "metadata": {},
   "outputs": [
    {
     "name": "stdout",
     "output_type": "stream",
     "text": [
      "False\n",
      "True\n",
      "28\n"
     ]
    }
   ],
   "source": [
    "# Number of days per month. First value placeholder for indexing purposes.\n",
    "month_days = [0,31,28,31,30,31,30,31,31,30,31,30,31]\n",
    "\n",
    "def is_leap(year):\n",
    "    \"\"\"Return True for leap years, False for non-leap years.\"\"\"\n",
    "    return year % 4 ==0 and (year % 100 !=0 or year % 400 == 0)\n",
    "\n",
    "def days_in_month(year,month):\n",
    "    \"\"\"Return number of days in that month in that year.\"\"\"\n",
    "    \n",
    "    if not 1 <= month <= 12:\n",
    "        return 'Invalid Month'\n",
    "    \n",
    "    if month == 2 and is_leap(year):\n",
    "        return 29\n",
    "    \n",
    "    return month_days[month]\n",
    "\n",
    "print(is_leap(2017))\n",
    "print(is_leap(2020))\n",
    "\n",
    "print(days_in_month(2017, 2))"
   ]
  },
  {
   "cell_type": "code",
   "execution_count": null,
   "id": "f9522853",
   "metadata": {},
   "outputs": [],
   "source": []
  }
 ],
 "metadata": {
  "kernelspec": {
   "display_name": "Python 3 (ipykernel)",
   "language": "python",
   "name": "python3"
  },
  "language_info": {
   "codemirror_mode": {
    "name": "ipython",
    "version": 3
   },
   "file_extension": ".py",
   "mimetype": "text/x-python",
   "name": "python",
   "nbconvert_exporter": "python",
   "pygments_lexer": "ipython3",
   "version": "3.9.13"
  }
 },
 "nbformat": 4,
 "nbformat_minor": 5
}
