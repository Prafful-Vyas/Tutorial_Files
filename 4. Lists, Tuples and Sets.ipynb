{
 "cells": [
  {
   "cell_type": "code",
   "execution_count": 1,
   "id": "85c6915c",
   "metadata": {},
   "outputs": [
    {
     "name": "stdout",
     "output_type": "stream",
     "text": [
      "Mosh Hamedani\n",
      "o----\n",
      " ----\n"
     ]
    }
   ],
   "source": [
    "print(\"Mosh Hamedani\") # can print in \"\" and ''\n",
    "print('o----')\n",
    "print(' ----')\n",
    "print('')"
   ]
  },
  {
   "cell_type": "code",
   "execution_count": 6,
   "id": "106907b2",
   "metadata": {
    "scrolled": true
   },
   "outputs": [
    {
     "name": "stdout",
     "output_type": "stream",
     "text": [
      "What is your name? Prafful\n",
      "What is your favorite color? Blue\n",
      "Prafful likes Blue\n"
     ]
    }
   ],
   "source": [
    "# taking input from the user\n",
    "# using variable values in print with string\n",
    "\n",
    "name = input('What is your name? ')\n",
    "color = input('What is your favorite color? ')\n",
    "print(name + ' likes ' + color) "
   ]
  },
  {
   "cell_type": "code",
   "execution_count": 8,
   "id": "21dc7155",
   "metadata": {},
   "outputs": [
    {
     "name": "stdout",
     "output_type": "stream",
     "text": [
      "Python's Course for Beginners\n"
     ]
    }
   ],
   "source": [
    "# using '' inside \"\". Vice versa can also be done.\n",
    "\n",
    "course =\"Python's Course for Beginners\"\n",
    "print(course)"
   ]
  },
  {
   "cell_type": "code",
   "execution_count": 14,
   "id": "0864db97",
   "metadata": {},
   "outputs": [
    {
     "name": "stdout",
     "output_type": "stream",
     "text": [
      "['History', 'Math', 'Physics', 'CompSci']\n",
      "History\n",
      "Math\n",
      "Physics\n",
      "CompSci\n"
     ]
    }
   ],
   "source": [
    "# LIST ARE MUTABLE (CHANGEABLE); \n",
    "# Creating list, Printing list & each element of the list\n",
    "\n",
    "courses = ['History','Math','Physics','CompSci']\n",
    "print(courses)\n",
    "print(courses[0])\n",
    "print(courses[1])\n",
    "print(courses[2])\n",
    "print(courses[3])"
   ]
  },
  {
   "cell_type": "code",
   "execution_count": 15,
   "id": "2cc532b6",
   "metadata": {},
   "outputs": [
    {
     "name": "stdout",
     "output_type": "stream",
     "text": [
      "['History', 'Math']\n"
     ]
    }
   ],
   "source": [
    "# List Slicing\n",
    "# courses[start index, end index + 1]\n",
    "# prints from sart to end index\n",
    "\n",
    "print(courses[0:2])"
   ]
  },
  {
   "cell_type": "code",
   "execution_count": 16,
   "id": "93950bdc",
   "metadata": {},
   "outputs": [
    {
     "name": "stdout",
     "output_type": "stream",
     "text": [
      "['History', 'Math', 'Physics', 'CompSci', 'Art']\n"
     ]
    }
   ],
   "source": [
    "# adding values in list.\n",
    "\n",
    "courses.append('Art')\n",
    "print(courses)"
   ]
  },
  {
   "cell_type": "code",
   "execution_count": 17,
   "id": "2fc9ebbb",
   "metadata": {},
   "outputs": [
    {
     "name": "stdout",
     "output_type": "stream",
     "text": [
      "['Art', 'History', 'Math', 'Physics', 'CompSci', 'Art']\n"
     ]
    }
   ],
   "source": [
    "# adding values at a specific location in list\n",
    "\n",
    "courses.insert(0,'Art')\n",
    "print(courses)"
   ]
  },
  {
   "cell_type": "code",
   "execution_count": 18,
   "id": "5a014dc4",
   "metadata": {},
   "outputs": [
    {
     "name": "stdout",
     "output_type": "stream",
     "text": [
      "['History', 'Math', 'Physics', 'CompSci', 'Art', 'Education']\n"
     ]
    }
   ],
   "source": [
    "# adding one list elements to another\n",
    "\n",
    "courses_1 = ['History','Math','Physics','CompSci']\n",
    "courses_2 = ['Art','Education']\n",
    "\n",
    "courses_1.extend(courses_2)\n",
    "print(courses_1)\n",
    "\n",
    "# using insert or append methods will add one list inside the other."
   ]
  },
  {
   "cell_type": "code",
   "execution_count": 19,
   "id": "05b14e2b",
   "metadata": {},
   "outputs": [
    {
     "name": "stdout",
     "output_type": "stream",
     "text": [
      "['Art', 'History', 'Physics', 'CompSci', 'Art']\n"
     ]
    }
   ],
   "source": [
    "# remove value from the list\n",
    "\n",
    "courses.remove('Math')\n",
    "print(courses)"
   ]
  },
  {
   "cell_type": "code",
   "execution_count": 21,
   "id": "3ddfd627",
   "metadata": {},
   "outputs": [
    {
     "name": "stdout",
     "output_type": "stream",
     "text": [
      "['Art', 'History', 'Physics']\n",
      "CompSci\n"
     ]
    }
   ],
   "source": [
    "# remove last value from the list, \n",
    "# returns the pop value as well\n",
    "\n",
    "pop_value = courses.pop()\n",
    "print(courses)\n",
    "print(pop_value)"
   ]
  },
  {
   "cell_type": "code",
   "execution_count": 22,
   "id": "827f1866",
   "metadata": {},
   "outputs": [
    {
     "name": "stdout",
     "output_type": "stream",
     "text": [
      "['Physics', 'History', 'Art']\n"
     ]
    }
   ],
   "source": [
    "# Reverse our list\n",
    "\n",
    "courses.reverse()\n",
    "print(courses)"
   ]
  },
  {
   "cell_type": "code",
   "execution_count": 24,
   "id": "47fab27a",
   "metadata": {},
   "outputs": [
    {
     "name": "stdout",
     "output_type": "stream",
     "text": [
      "[1, 5, 4, 2, 3]\n",
      "['Art', 'History', 'Physics']\n"
     ]
    }
   ],
   "source": [
    "# Sorting our list\n",
    "# Sorts alphabetically, in ascending order\n",
    "\n",
    "num = [1,5,4,2,3]\n",
    "num.sort\n",
    "print(num)\n",
    "\n",
    "courses.sort()\n",
    "print(courses)"
   ]
  },
  {
   "cell_type": "code",
   "execution_count": 26,
   "id": "18f3c89d",
   "metadata": {},
   "outputs": [
    {
     "name": "stdout",
     "output_type": "stream",
     "text": [
      "[5, 4, 3, 2, 1]\n",
      "['Physics', 'History', 'Art']\n"
     ]
    }
   ],
   "source": [
    "# Sorting list in descending order\n",
    "\n",
    "num.sort(reverse=True)\n",
    "courses.sort(reverse=True)\n",
    "\n",
    "print(num)\n",
    "print(courses)"
   ]
  },
  {
   "cell_type": "code",
   "execution_count": 27,
   "id": "54dd73a3",
   "metadata": {},
   "outputs": [
    {
     "name": "stdout",
     "output_type": "stream",
     "text": [
      "['Art', 'History', 'Physics']\n",
      "[1, 2, 3, 4, 5]\n"
     ]
    }
   ],
   "source": [
    "# getting new sorted list \n",
    "# without changing the original list\n",
    "\n",
    "sorted_courses = sorted(courses)\n",
    "sorted_num = sorted(num)\n",
    "\n",
    "print(sorted_courses)\n",
    "print(sorted_num)"
   ]
  },
  {
   "cell_type": "code",
   "execution_count": 28,
   "id": "aeed112b",
   "metadata": {},
   "outputs": [
    {
     "name": "stdout",
     "output_type": "stream",
     "text": [
      "1\n",
      "5\n",
      "15\n"
     ]
    }
   ],
   "source": [
    "# getting min, max & sum of numbered list\n",
    "\n",
    "print(min(num))\n",
    "print(max(num))\n",
    "print(sum(num))"
   ]
  },
  {
   "cell_type": "code",
   "execution_count": 29,
   "id": "ec71ea23",
   "metadata": {},
   "outputs": [
    {
     "name": "stdout",
     "output_type": "stream",
     "text": [
      "2\n"
     ]
    }
   ],
   "source": [
    "# getting index of a particular value from a list\n",
    "\n",
    "courses = ['History','Math','Physics','CompSci']\n",
    "\n",
    "print(courses.index('Physics'))"
   ]
  },
  {
   "cell_type": "code",
   "execution_count": 31,
   "id": "e02601ce",
   "metadata": {},
   "outputs": [
    {
     "name": "stdout",
     "output_type": "stream",
     "text": [
      "False\n",
      "True\n"
     ]
    }
   ],
   "source": [
    "# checking if the value is in the list or not\n",
    "\n",
    "print('Art' in courses)\n",
    "print('Math' in courses)"
   ]
  },
  {
   "cell_type": "code",
   "execution_count": 33,
   "id": "75e2f82a",
   "metadata": {},
   "outputs": [
    {
     "name": "stdout",
     "output_type": "stream",
     "text": [
      "History\n",
      "Math\n",
      "Physics\n",
      "CompSci\n"
     ]
    }
   ],
   "source": [
    "# printing each item of list through for loop\n",
    "\n",
    "courses = ['History','Math','Physics','CompSci']\n",
    "\n",
    "for item in courses:\n",
    "    print(item)\n",
    "    \n",
    "# item is just a variable, we can use anything we want"
   ]
  },
  {
   "cell_type": "code",
   "execution_count": 34,
   "id": "723cf466",
   "metadata": {},
   "outputs": [
    {
     "name": "stdout",
     "output_type": "stream",
     "text": [
      "1 History\n",
      "2 Math\n",
      "3 Physics\n",
      "4 CompSci\n"
     ]
    }
   ],
   "source": [
    "# enumerate Fn \n",
    "# -> returns index & value of items in the list,\n",
    "# -> takes list name & index from where we want to start printing\n",
    "\n",
    "courses = ['History','Math','Physics','CompSci']\n",
    "\n",
    "for index,course in enumerate(courses, start=1):\n",
    "    print(index,course)"
   ]
  },
  {
   "cell_type": "code",
   "execution_count": 35,
   "id": "77900755",
   "metadata": {},
   "outputs": [
    {
     "name": "stdout",
     "output_type": "stream",
     "text": [
      "History - Math - Physics - CompSci\n"
     ]
    }
   ],
   "source": [
    "# converting our string list into 1 single string separated with -\n",
    "# joining all items of the list into a single string with a separator\n",
    "\n",
    "courses = ['History','Math','Physics','CompSci']\n",
    "\n",
    "course_str = ' - '.join(courses)\n",
    "\n",
    "print(course_str)"
   ]
  },
  {
   "cell_type": "code",
   "execution_count": 36,
   "id": "61960cab",
   "metadata": {},
   "outputs": [
    {
     "name": "stdout",
     "output_type": "stream",
     "text": [
      "History - Math - Physics - CompSci\n",
      "['History', 'Math', 'Physics', 'CompSci']\n"
     ]
    }
   ],
   "source": [
    "# reversing above process\n",
    "# extracting items from a single string having a separator\n",
    "\n",
    "print(course_str)\n",
    "\n",
    "new_list = course_str.split(' - ')\n",
    "print(new_list)\n"
   ]
  },
  {
   "cell_type": "code",
   "execution_count": 38,
   "id": "20cc06c1",
   "metadata": {},
   "outputs": [
    {
     "name": "stdout",
     "output_type": "stream",
     "text": [
      "['History', 'Math', 'Physics', 'CompSci']\n",
      "['History', 'Math', 'Physics', 'CompSci']\n",
      "['Art', 'Math', 'Physics', 'CompSci']\n",
      "['Art', 'Math', 'Physics', 'CompSci']\n"
     ]
    }
   ],
   "source": [
    "# Example of Mutable(Lists)\n",
    "\n",
    "list_1 = ['History','Math','Physics','CompSci']\n",
    "list_2 = list_1\n",
    "\n",
    "print(list_1)\n",
    "print(list_2)\n",
    "\n",
    "list_1[0] = 'Art'\n",
    "\n",
    "print(list_1)\n",
    "print(list_2)\n",
    "\n",
    "# There's only one list, which is assigned to two variables,\n",
    "# Thus we can change the list using any variable"
   ]
  },
  {
   "cell_type": "code",
   "execution_count": 40,
   "id": "6742f627",
   "metadata": {},
   "outputs": [
    {
     "ename": "TypeError",
     "evalue": "'tuple' object does not support item assignment",
     "output_type": "error",
     "traceback": [
      "\u001b[1;31m---------------------------------------------------------------------------\u001b[0m",
      "\u001b[1;31mTypeError\u001b[0m                                 Traceback (most recent call last)",
      "\u001b[1;32m~\\AppData\\Local\\Temp\\ipykernel_8748\\203990608.py\u001b[0m in \u001b[0;36m<module>\u001b[1;34m\u001b[0m\n\u001b[0;32m      6\u001b[0m \u001b[0mtuple_2\u001b[0m \u001b[1;33m=\u001b[0m \u001b[0mtuple_1\u001b[0m\u001b[1;33m\u001b[0m\u001b[1;33m\u001b[0m\u001b[0m\n\u001b[0;32m      7\u001b[0m \u001b[1;33m\u001b[0m\u001b[0m\n\u001b[1;32m----> 8\u001b[1;33m \u001b[0mtuple_1\u001b[0m\u001b[1;33m[\u001b[0m\u001b[1;36m0\u001b[0m\u001b[1;33m]\u001b[0m \u001b[1;33m=\u001b[0m \u001b[1;34m'Art'\u001b[0m\u001b[1;33m\u001b[0m\u001b[1;33m\u001b[0m\u001b[0m\n\u001b[0m\u001b[0;32m      9\u001b[0m \u001b[1;33m\u001b[0m\u001b[0m\n\u001b[0;32m     10\u001b[0m \u001b[0mprint\u001b[0m\u001b[1;33m(\u001b[0m\u001b[0mtuple_1\u001b[0m\u001b[1;33m)\u001b[0m\u001b[1;33m\u001b[0m\u001b[1;33m\u001b[0m\u001b[0m\n",
      "\u001b[1;31mTypeError\u001b[0m: 'tuple' object does not support item assignment"
     ]
    }
   ],
   "source": [
    "# Tuples uses () & Lists uses []\n",
    "# TUPLES ARE IMMUTABLE (CAN'T BE CHANGED)\n",
    "# Example of Immutable(Tuples)\n",
    "\n",
    "tuple_1 = ('History','Math','Physics','CompSci')\n",
    "tuple_2 = tuple_1\n",
    "\n",
    "tuple_1[0] = 'Art'\n",
    "\n",
    "print(tuple_1)\n",
    "print(tuple_2)\n",
    "\n",
    "# results in error bcoz tuple values can't be changed"
   ]
  },
  {
   "cell_type": "code",
   "execution_count": 41,
   "id": "855675ab",
   "metadata": {},
   "outputs": [],
   "source": [
    "# Modifying tuples is not possible,\n",
    "# Rest all methods such as printing can be done on tuples"
   ]
  },
  {
   "cell_type": "code",
   "execution_count": 53,
   "id": "b39c5bdd",
   "metadata": {},
   "outputs": [
    {
     "name": "stdout",
     "output_type": "stream",
     "text": [
      "{'Physics', 'Math', 'CompSci', 'History'}\n"
     ]
    }
   ],
   "source": [
    "# SETS are values that are unordered\n",
    "# don't have duplicate values\n",
    "# uses {}\n",
    "\n",
    "cs_courses = {'History','Math','Physics','CompSci'}\n",
    "\n",
    "print(cs_courses)\n",
    "# items can be printed in any order"
   ]
  },
  {
   "cell_type": "code",
   "execution_count": 54,
   "id": "b870cf2b",
   "metadata": {},
   "outputs": [
    {
     "name": "stdout",
     "output_type": "stream",
     "text": [
      "{'Physics', 'Math', 'CompSci', 'History'}\n"
     ]
    }
   ],
   "source": [
    "# adding duplicate value in set will print only the original\n",
    "\n",
    "cs_courses = {'History','Math','Physics','CompSci','Math'}\n",
    "\n",
    "print(cs_courses)"
   ]
  },
  {
   "cell_type": "code",
   "execution_count": 55,
   "id": "8be4a903",
   "metadata": {},
   "outputs": [
    {
     "name": "stdout",
     "output_type": "stream",
     "text": [
      "True\n",
      "False\n"
     ]
    }
   ],
   "source": [
    "# Set Membership Test \n",
    "# Checking for a particular item in set \n",
    "# More efficient than List,Tuples\n",
    "\n",
    "cs_courses = {'History','Math','Physics','CompSci'}\n",
    "\n",
    "print('Math' in cs_courses)\n",
    "print('Science' in cs_courses)"
   ]
  },
  {
   "cell_type": "code",
   "execution_count": 58,
   "id": "2f809bc8",
   "metadata": {},
   "outputs": [
    {
     "name": "stdout",
     "output_type": "stream",
     "text": [
      "{'Math', 'History'}\n",
      "{'Physics', 'CompSci'}\n",
      "{'Design', 'Math', 'History', 'Art', 'Physics', 'CompSci'}\n"
     ]
    }
   ],
   "source": [
    "# getting common, uncommon and union of items of 2 sets\n",
    "\n",
    "cs_courses = {'History','Math','Physics','CompSci'}\n",
    "art_courses = {'History','Math','Art','Design'}\n",
    "\n",
    "print(cs_courses.intersection(art_courses))\n",
    "# prints common items\n",
    "\n",
    "print(cs_courses.difference(art_courses))\n",
    "# prints uncommon items (cs-art)\n",
    "\n",
    "print(cs_courses.union(art_courses))\n",
    "# prints all items \n",
    "# no duplicate values will be printed if it exists."
   ]
  },
  {
   "cell_type": "code",
   "execution_count": 59,
   "id": "254608be",
   "metadata": {},
   "outputs": [],
   "source": [
    "# Empty Lists\n",
    "\n",
    "empty_list = []\n",
    "empty_list = list()"
   ]
  },
  {
   "cell_type": "code",
   "execution_count": 60,
   "id": "3d7db907",
   "metadata": {},
   "outputs": [],
   "source": [
    "# Empty Tuples\n",
    "\n",
    "empty_tuple = ()\n",
    "empty_tuple = tuple()"
   ]
  },
  {
   "cell_type": "code",
   "execution_count": 61,
   "id": "48f6f60a",
   "metadata": {},
   "outputs": [],
   "source": [
    "# Empty Sets\n",
    "\n",
    "empty_set = {}  # This isn't right! It creates a dict\n",
    "empty_set = set()"
   ]
  },
  {
   "cell_type": "code",
   "execution_count": null,
   "id": "fa94dd9c",
   "metadata": {},
   "outputs": [],
   "source": []
  }
 ],
 "metadata": {
  "kernelspec": {
   "display_name": "Python 3 (ipykernel)",
   "language": "python",
   "name": "python3"
  },
  "language_info": {
   "codemirror_mode": {
    "name": "ipython",
    "version": 3
   },
   "file_extension": ".py",
   "mimetype": "text/x-python",
   "name": "python",
   "nbconvert_exporter": "python",
   "pygments_lexer": "ipython3",
   "version": "3.9.13"
  }
 },
 "nbformat": 4,
 "nbformat_minor": 5
}
