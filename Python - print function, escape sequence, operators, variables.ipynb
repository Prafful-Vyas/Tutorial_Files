{
 "cells": [
  {
   "cell_type": "code",
   "execution_count": 2,
   "id": "04d8fd06",
   "metadata": {
    "scrolled": true
   },
   "outputs": [
    {
     "name": "stdout",
     "output_type": "stream",
     "text": [
      "hello world\n",
      "hello world\n",
      "hello 'world' world\n",
      "hello \"world\" world\n",
      "I'm harshit\n"
     ]
    }
   ],
   "source": [
    "# PRINT FUNCTION\n",
    "\n",
    "print('hello world')  # ---> hello world\n",
    "print(\"hello world\")  # ---> hello world\n",
    "\n",
    "# Both single and double quotes works in python\n",
    "# String - collection of character inside \"Double Quotes\" or 'Single Quotes'\n",
    "\n",
    "print(\"hello 'world' world\")   # --> hello 'world' world\n",
    "print('hello \"world\" world')   # --> hello \"world\" world\n",
    "\n",
    "# Can use 'single quotes' inside \"double quotes\"\n",
    "# Can use \"double quotes\" inside 'single quotes'\n",
    "\n",
    "# print(\"hello \"world\" world\") ----> Syntax Error\n",
    "# print('hello 'world' world') ----> Syntax Error\n",
    "\n",
    "# Can't use 'single quotes' inside 'single quotes'\n",
    "# Can't use \"double quotes\" inside \"double quotes\"\n",
    "\n",
    "# print('I'm harshit') ----> Syntax Error\n",
    "\n",
    "print(\"I'm harshit\")     # ---> No Error  I'm harshit\n",
    "\n",
    "# print(\"hello \"world\" world\")  # --> Syntax Error"
   ]
  },
  {
   "cell_type": "code",
   "execution_count": 3,
   "id": "5ea0fa78",
   "metadata": {},
   "outputs": [
    {
     "name": "stdout",
     "output_type": "stream",
     "text": [
      "hello \"world\" world\n",
      "I'm harshit\n",
      "line A\n",
      "line B\n",
      "line C\n",
      "name\tHarshit\n",
      "this is backslash\\\n",
      "this is double backslash\\\\\n",
      "hell\blo\n"
     ]
    }
   ],
   "source": [
    "# ESCAPE SEQUENCES\n",
    "\n",
    "print(\"hello \\\"world\\\" world\")  # --> hello \"world\" world\n",
    "print('I\\'m harshit')   # --> I'm harshit\n",
    "\n",
    "# IMP Always use single or double quotes with escape sequences\n",
    "\n",
    "#   \\'  ----> single quote\n",
    "#   \\\"  ----> double quote\n",
    "#   \\\\  ----> backslash  (To print backslash)\n",
    "#   \\n  ----> new line  (Enter key)\n",
    "#   \\t  ----> tab       (Tab key)\n",
    "#   \\b  ----> backspace  (backspace key)\n",
    "\n",
    "print(\"line A\\nline B\\nline C\")        # ---> line A Enter line B Enter line C\n",
    "print(\"name\\tHarshit\")                 # --->   Name     Harshit\n",
    "print(\"this is backslash\\\\\")           # ---> this is backslash\\\n",
    "print(\"this is double backslash\\\\\\\\\")  # ---> this is double backslash\\\\\n",
    "print(\"hell\\blo\")                      # ---> hello\n"
   ]
  },
  {
   "cell_type": "code",
   "execution_count": 4,
   "id": "68fe6a56",
   "metadata": {},
   "outputs": [],
   "source": [
    "# COMMENTS\n",
    "\n",
    "# ctrl + / ---> comments whole line\n"
   ]
  },
  {
   "cell_type": "code",
   "execution_count": 5,
   "id": "91a36bda",
   "metadata": {},
   "outputs": [
    {
     "name": "stdout",
     "output_type": "stream",
     "text": [
      "Line A \\n Line B\n",
      "Line B \\t line A\n",
      "this is 4 backslash \\\\\\\\\n",
      " \\\" \\' \n"
     ]
    }
   ],
   "source": [
    "# ESCAPE SEQUENCE AS A NORMAL TEXT\n",
    "\n",
    "# output : Line A \\n Line B\n",
    "print(\"Line A \\\\n Line B\")\n",
    "\n",
    "print(\"Line B \\\\t line A\")\n",
    "# output : Line B \\t line A\n",
    "\n",
    "print(\"this is 4 backslash \\\\\\\\\\\\\\\\\")\n",
    "\n",
    "# output : \\\" \\'\n",
    "print(\" \\\\\\\" \\\\\\' \")\n"
   ]
  },
  {
   "cell_type": "code",
   "execution_count": null,
   "id": "f90abc3c",
   "metadata": {},
   "outputs": [],
   "source": [
    "# EXERCISE 1\n",
    "\n",
    "# ********************print these following lines*****************\n",
    "\n",
    "# this is \\\\ double backslash\n",
    "print(\"this is \\\\\\\\ double backslash\")\n",
    "\n",
    "# these are /\\/\\/\\/\\ mountains\n",
    "print(\"these are /\\\\ /\\\\ /\\\\ /\\\\ mountains\")\n",
    "\n",
    "# he is     awesome (use escape sequence instead of manual spaces)\n",
    "print(\"he is \\t awesome\")\n",
    "\n",
    "# \\\" \\n \\t \\'  (print this as an output)\n",
    "print(\" \\\\\\\" \\\\n \\\\t \\\\\\' \")\n"
   ]
  },
  {
   "cell_type": "code",
   "execution_count": 6,
   "id": "f4e07a40",
   "metadata": {},
   "outputs": [
    {
     "name": "stdout",
     "output_type": "stream",
     "text": [
      "line A \\\" line B\n"
     ]
    }
   ],
   "source": [
    "# RAW STRINGS\n",
    "\n",
    "print(r\"line A \\\" line B\")\n",
    "# r nullifies escape sequences and prints them.\n"
   ]
  },
  {
   "cell_type": "code",
   "execution_count": 7,
   "id": "15a7be85",
   "metadata": {},
   "outputs": [
    {
     "name": "stdout",
     "output_type": "stream",
     "text": [
      "😂\n",
      "😆\n",
      "🤣\n"
     ]
    }
   ],
   "source": [
    "# PRINTING EMOJIS\n",
    "# https://www.youtube.com/redirect?event=video_description&redir_token=QUFFLUhqbFZiYXIxXzFDVXY1YjJhaVlCT3dxVlhRZXkyZ3xBQ3Jtc0tsMk1UZHZ4QlJLbEZtcmVpU0ZsZU9IcHVISDc0OFQwQkNhS1VQSVlEVHhOaWdmZ3lVOGFCQ1dfZ2JWM2x4dWdqZ2FQb01wMnZuc3ozSUo4WVZPZldvMmJhODhKbjYzaTlPTW9Yb2J1S21aX05oUHdHSQ&q=https%3A%2F%2Funicode.org%2Femoji%2Fcharts%2Ffull-emoji-list.html\n",
    "# U+1F604   replace as print(\"\\U0001F602\")\n",
    "\n",
    "print(\"\\U0001F602\")\n",
    "print(\"\\U0001F606\")\n",
    "print(\"\\U0001F923\")\n"
   ]
  },
  {
   "cell_type": "code",
   "execution_count": 9,
   "id": "db4705e5",
   "metadata": {},
   "outputs": [
    {
     "name": "stdout",
     "output_type": "stream",
     "text": [
      "14\n",
      "0.5\n",
      "0\n",
      "2.0\n",
      "2\n",
      "8\n",
      "1.4142135623730951\n",
      "1.4142\n",
      "0.5\n",
      "512\n"
     ]
    }
   ],
   "source": [
    "# PYTHON AS A CALCULATOR\n",
    "\n",
    "print(2+3*4)\n",
    "\n",
    "# Operators      Description\n",
    "#    +           Addition\n",
    "#    -           Subtraction\n",
    "#    *           Multiplication\n",
    "#    /           Float division\n",
    "#    //          Integer division\n",
    "#    %           Modulo(gives remainder)\n",
    "#    **          Exponent\n",
    "\n",
    "print(2/4)  # ----> Float Division    0.5\n",
    "print(2//4)  # ----> Integer Division  0\n",
    "\n",
    "print(4/2)\n",
    "print(4//2)\n",
    "\n",
    "print(2**3)\n",
    "print(2**0.5)\n",
    "print(round(2**0.5, 4))\n",
    "\n",
    "\n",
    "#      Operators                 Precedence & Associativity\n",
    "#      (), {}                    Highest\n",
    "#      **                        R to L\n",
    "#      *,/,//,%                  L to R\n",
    "#      +,-                       L to R\n",
    "\n",
    "print((2+3)*5/2 % 6)\n",
    "print(2**3**2)"
   ]
  },
  {
   "cell_type": "code",
   "execution_count": 10,
   "id": "1bd152d9",
   "metadata": {},
   "outputs": [
    {
     "name": "stdout",
     "output_type": "stream",
     "text": [
      "2\n",
      "4\n",
      "Harshit\n",
      "123\n"
     ]
    }
   ],
   "source": [
    "# VARIABLES\n",
    "\n",
    "number1 = 2\n",
    "print(number1)\n",
    "\n",
    "number1 = 4\n",
    "print(number1)\n",
    "\n",
    "name = \"Harshit\"\n",
    "print(name)\n",
    "\n",
    "name = 123\n",
    "print(name)\n",
    "\n",
    "# rule1 : can't start variable name with number, can use number in between\n",
    "# rule2 : can't use special symbols in variable name\n",
    "# can start variable with underscore\n",
    "\n",
    "user_one_name = \"Rohit\"  # snake case writing recommended for python\n",
    "userOneName = \"Mohit\"   # camel case writing mostly used in java\n",
    "\n",
    "\n"
   ]
  },
  {
   "cell_type": "code",
   "execution_count": 11,
   "id": "c420be77",
   "metadata": {},
   "outputs": [],
   "source": [
    "# ************************summary of chapter one*************************\n",
    "\n",
    "\n",
    "# print function\n",
    "# escape sequence\n",
    "# escape sequence as normal text\n",
    "# python as calculator\n",
    "# variables\n",
    "# naming rules for variables\n",
    "# convention for variable naming\n"
   ]
  },
  {
   "cell_type": "code",
   "execution_count": null,
   "id": "bb277434",
   "metadata": {},
   "outputs": [],
   "source": []
  }
 ],
 "metadata": {
  "kernelspec": {
   "display_name": "Python 3 (ipykernel)",
   "language": "python",
   "name": "python3"
  },
  "language_info": {
   "codemirror_mode": {
    "name": "ipython",
    "version": 3
   },
   "file_extension": ".py",
   "mimetype": "text/x-python",
   "name": "python",
   "nbconvert_exporter": "python",
   "pygments_lexer": "ipython3",
   "version": "3.9.13"
  }
 },
 "nbformat": 4,
 "nbformat_minor": 5
}
