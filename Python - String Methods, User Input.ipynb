{
 "cells": [
  {
   "cell_type": "code",
   "execution_count": 1,
   "id": "759bec9d",
   "metadata": {},
   "outputs": [
    {
     "name": "stdout",
     "output_type": "stream",
     "text": [
      "Harshit Vashishta\n",
      "Harshit3\n",
      "Harshit3\n",
      "HarshitHarshitHarshit\n"
     ]
    }
   ],
   "source": [
    "# STRINGS\n",
    "# collection of characters inside single quotes or double quotes\n",
    "\n",
    "first_name = \"Harshit\"\n",
    "last_name = \"Vashishta\"\n",
    "full_name = first_name + \" \" + last_name\n",
    "print(full_name)\n",
    "\n",
    "# print(first_name + 3) error\n",
    "print(first_name + \"3\")  # no error\n",
    "print(first_name + str(3))  # no error\n",
    "\n",
    "print(first_name * 3)"
   ]
  },
  {
   "cell_type": "code",
   "execution_count": null,
   "id": "9ba0fd96",
   "metadata": {},
   "outputs": [],
   "source": [
    "# USER INPUT\n",
    "# input function\n",
    "name = input(\"type your name\")\n",
    "print(\"hello \" + name)\n",
    "\n",
    "# Always takes input in form of string\n",
    "\n",
    "age = input(\"what is your age ?\")\n",
    "# \"24\"\n",
    "print(\"your age is \" + age)\n",
    "\n",
    "# age string got concatencated without any error\n"
   ]
  },
  {
   "cell_type": "code",
   "execution_count": null,
   "id": "a7ebd86c",
   "metadata": {},
   "outputs": [],
   "source": [
    "# INT() FUNCTION\n",
    "\n",
    "number_one = input(\"enter first number\")  # string\n",
    "numer_two = input(\"enter second number\")  # string\n",
    "total = number_one + numer_two            # string\n",
    "print(\"total is \" + total)                # string\n",
    "# total = \"4\" + \"4\" = 44\n",
    "\n",
    "number_three = int(input(\"enter first number\"))\n",
    "number_four = int(input(\"enter second number\"))\n",
    "total2 = number_three + number_four\n",
    "print(\"total is \" + str(total2))\n",
    "\n",
    "number1 = str(4)\n",
    "number2 = float(\"44\")\n",
    "number3 = int(\"33\")\n",
    "print(number2 + number3)  # float\n"
   ]
  },
  {
   "cell_type": "code",
   "execution_count": null,
   "id": "7b8e6d42",
   "metadata": {},
   "outputs": [],
   "source": [
    "# MORE ABOUT VARIABLES\n",
    "\n",
    "name, age = \"Harshit\", \"24\"\n",
    "print(\"hello \" + name + \" your age is \" + age)\n",
    "x = y = z = 1\n",
    "print(x+y+z)\n"
   ]
  },
  {
   "cell_type": "code",
   "execution_count": null,
   "id": "18691c01",
   "metadata": {},
   "outputs": [],
   "source": [
    "# MORE THAN ONE INPUT IN ONE LINE\n",
    "\n",
    "# name = input(\"enter your name : \")\n",
    "# age = input(\"enter your age : \")\n",
    "\n",
    "name, age = input(\"enter your name and age \").split(\n",
    "    \",\")  # separate values with comma\n",
    "\n",
    "# name,age = input(\"enter your name and age \").split() # in this separate with a space\n",
    "\n",
    "print(name)\n",
    "print(age)\n"
   ]
  },
  {
   "cell_type": "code",
   "execution_count": null,
   "id": "3132b000",
   "metadata": {},
   "outputs": [],
   "source": [
    "# STRING FORMATTING\n",
    "\n",
    "name = \"harshit\"\n",
    "age = 24\n",
    "\n",
    "print(\"hello \" + name + \" your age is \" + str(age))   # ugly syntax\n",
    "\n",
    "print(\"hello {} your age is {} \".format(name, age + 2))   # python 3\n",
    "\n",
    "print(f\"hello {name} your age is {age + 2}\")   # clean\n"
   ]
  },
  {
   "cell_type": "code",
   "execution_count": null,
   "id": "23fef74c",
   "metadata": {},
   "outputs": [],
   "source": [
    "# EXCERCISE 1\n",
    "\n",
    "# Ask user to input 3 numbers and you have to print average of three numbers using string formatting\n",
    "# Bonus :- try to take all three comma separated inputs in one line.\n",
    "\n",
    "num1, num2, num3 = input(\"enter 3 numbers : \").split(\",\")\n",
    "print((int(num1) + int(num2) + int(num3))/3)\n"
   ]
  },
  {
   "cell_type": "code",
   "execution_count": null,
   "id": "57b56c71",
   "metadata": {},
   "outputs": [],
   "source": [
    "# STRING INDEXING\n",
    "language = \"python\"\n",
    "\n",
    "# positions(index number)\n",
    "\n",
    "# p = 0 , -6        (starts with 0 index)\n",
    "# y = 1 , -5\n",
    "# t = 2 , -4\n",
    "# h = 3 , -3\n",
    "# o = 4 , -2\n",
    "# n = 5 , -1        (starts with -1 index)\n",
    "\n",
    "print(language[-4])\n",
    "print(language[-6])\n",
    "print(language[-5])\n"
   ]
  },
  {
   "cell_type": "code",
   "execution_count": null,
   "id": "c20818b0",
   "metadata": {},
   "outputs": [],
   "source": [
    "# STRING SLICING\n",
    "# slicing / selecting sub sequences\n",
    "lang = \"Python\"\n",
    "# print(lang[4])\n",
    "# syntax - [start argument : stop argument -1 ]\n",
    "\n",
    "print(lang[3:6])    # 3 se start hoga orr 6 se pehle stop hojaaega\n",
    "print(lang[:3])     # 2 tk print hoga 3 print nhi hoga\n",
    "print(lang[3:])     # 3 se start orr end tk sb print honge\n"
   ]
  },
  {
   "cell_type": "code",
   "execution_count": null,
   "id": "37623a9f",
   "metadata": {},
   "outputs": [],
   "source": [
    "# SLICING STEP ARGUMENTS\n",
    "\n",
    "# syntax - [start argument : stop argument -1 : step]\n",
    "\n",
    "print(\"Harshit\"[0:5])       # 0 se 4 tk print hoga\n",
    "# 0 se 4 tk print, 1 step at a time, same o/p as above\n",
    "print(\"Harshit\"[0:5:1])\n",
    "\n",
    "\n",
    "print(\"Harshit\"[0:5:2])    # Taking 2 step at a time, skips one index\n",
    "print(\"Harshit\"[0::2])\n",
    "\n",
    "# starts from i ends at h, taking one step back at a time\n",
    "print(\"Harshit\"[5::-1])\n",
    "\n",
    "print(\"Harshit\"[-1::-1])  # reverse the string\n",
    "# same as above, reverses the string, considers blank as -1\n",
    "print(\"Harshit\"[::-1])\n"
   ]
  },
  {
   "cell_type": "code",
   "execution_count": null,
   "id": "7182eda3",
   "metadata": {},
   "outputs": [],
   "source": [
    "# Excercise 2\n",
    "\n",
    "# Ask user name and print back user name in reverse order\n",
    "# Note :- try to make your program in 2 lines using string formatting\n",
    "\n",
    "fname, lname = input(\"Enter your name : \").split(\",\")\n",
    "print(f\"name in reverse is {lname[::-1] + fname[::-1]}\")\n"
   ]
  },
  {
   "cell_type": "code",
   "execution_count": null,
   "id": "f384983b",
   "metadata": {},
   "outputs": [],
   "source": [
    "# STRING METHODS PART 1\n",
    "\n",
    "name = \"HaRsHiT vASHISThA\"\n",
    "\n",
    "# len() function     # calculates length, counts spaces as well\n",
    "length = len(name)\n",
    "print(length)\n",
    "\n",
    "# lower() method    # turns into lowercase\n",
    "print(name.lower())\n",
    "\n",
    "# upper() method    # turns into uppercase\n",
    "print(name.upper())\n",
    "\n",
    "# title() method     # turns first letter capital, H & V both becomes capital\n",
    "print(name.title())\n",
    "\n",
    "# count() method     # counts the character, it is case sensitive\n",
    "print(name.count(\"h\"))\n",
    "print(name.count(\"H\"))\n"
   ]
  },
  {
   "cell_type": "code",
   "execution_count": null,
   "id": "69e4d4ef",
   "metadata": {},
   "outputs": [],
   "source": [
    "# EXERCISE 3\n",
    "\n",
    "# take two comma separated inputs from the user\n",
    "# 1.) user's name\n",
    "# 2.) a single character\n",
    "\n",
    "username, char = input(\"Enter username and a character : \").split(\",\")\n",
    "\n",
    "# output - 2 print lines\n",
    "# 1.) user's name length\n",
    "# 2.) count the character that user inputed (bonus : case insensitive count)\n",
    "\n",
    "print(len(username))\n",
    "print(int(username.count((char.upper()))) +\n",
    "      int(username.count((char.lower()))))\n",
    "\n",
    "# dont use double quotes in count here\n",
    "# he stripped the input then turned into lower space for name and char\n",
    "\n",
    "# print(f\"character count : {name.strip().lower().count(char.strip().lower())})\n",
    "# print(f\"length of your name is {len(name.strip())}\")\n",
    "\n"
   ]
  },
  {
   "cell_type": "code",
   "execution_count": null,
   "id": "8bed24e8",
   "metadata": {},
   "outputs": [],
   "source": [
    "# STRIP METHOD\n",
    "\n",
    "name = \"          Harshit         \"\n",
    "dots = \"..........................\"\n",
    "\n",
    "print(name + dots)\n",
    "print(name.lstrip() + dots)           # remove spaces to left\n",
    "print(name.rstrip() + dots)           # remove spaces to right\n",
    "print(name.strip() + dots)            # remove spaces left and right\n",
    "print(name.replace(\" \", \"\") + dots)    # replace space with blanks\n"
   ]
  },
  {
   "cell_type": "code",
   "execution_count": null,
   "id": "6a61b390",
   "metadata": {},
   "outputs": [],
   "source": [
    "# REPLACE AND FIND METHOD\n",
    "# replace() method\n",
    "# find() method\n",
    "\n",
    "string = \"she is beautiful and she is good dancer\"\n",
    "print(string.replace(\" \", \"_\"))\n",
    "print(string.replace(\"is\", \"was\"))\n",
    "print(string.replace(\"is\", \"was\", 1))     # replace only first is\n",
    "\n",
    "print(string.find(\"is\"))              # gives index\n",
    "print(string.find(\"is\", 5))           # finds after 5th index\n",
    "\n",
    "is_pos1 = string.find(\"is\")                 # is_pos1 ---> number\n",
    "is_pos2 = string.find(\"is\", is_pos1 + 1)    # finds the next is\n",
    "print(is_pos2)\n"
   ]
  },
  {
   "cell_type": "code",
   "execution_count": null,
   "id": "1b5b8e0d",
   "metadata": {},
   "outputs": [],
   "source": [
    "# CENTER METHOD\n",
    "name = \"harshit\"\n",
    "# **harshit** , 11\n",
    "print(name.center(11, \"*\"))\n",
    "\n",
    "name = input(\"enter your name : \")\n",
    "print(name.center(len(name)+8, \"*\"))\n",
    "print(name.center(len(name)+6, \"*\"))\n",
    "print(name.center(len(name)+1, \"*\"))\n"
   ]
  },
  {
   "cell_type": "code",
   "execution_count": null,
   "id": "c49e2d49",
   "metadata": {},
   "outputs": [],
   "source": [
    "# STRINGS ARE IMMUTABLE\n",
    "string = \"string\"\n",
    "print(string[1])\n",
    "# string[1] = 'T'   # doesn't changes as strings are immutable\n",
    "print(string)\n",
    "\n",
    "# this will create a new string with capital T\n",
    "new_string = string.replace('t', 'T')\n",
    "\n",
    "print(new_string)\n"
   ]
  },
  {
   "cell_type": "code",
   "execution_count": null,
   "id": "144dbd85",
   "metadata": {},
   "outputs": [],
   "source": [
    "# strings\n",
    "# string indexing\n",
    "# string slicing\n",
    "# take user input\n",
    "# take two user inputs\n",
    "# len function\n",
    "# lower, upper, title, count method\n",
    "# find, replace, center method\n",
    "# strings are immutable\n"
   ]
  }
 ],
 "metadata": {
  "kernelspec": {
   "display_name": "Python 3 (ipykernel)",
   "language": "python",
   "name": "python3"
  },
  "language_info": {
   "codemirror_mode": {
    "name": "ipython",
    "version": 3
   },
   "file_extension": ".py",
   "mimetype": "text/x-python",
   "name": "python",
   "nbconvert_exporter": "python",
   "pygments_lexer": "ipython3",
   "version": "3.9.13"
  }
 },
 "nbformat": 4,
 "nbformat_minor": 5
}
